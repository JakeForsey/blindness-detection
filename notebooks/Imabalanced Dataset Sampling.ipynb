{
 "cells": [
  {
   "cell_type": "code",
   "execution_count": 1,
   "metadata": {},
   "outputs": [],
   "source": [
    "import sys\n",
    "# Jupyter notebook setup\n",
    "\n",
    "# Add our code\n",
    "sys.path.append(\"../\")\n",
    "\n",
    "# Make sure imports are updated constantly\n",
    "%load_ext autoreload\n",
    "%autoreload 2"
   ]
  },
  {
   "cell_type": "code",
   "execution_count": 2,
   "metadata": {},
   "outputs": [],
   "source": [
    "import torch\n",
    "\n",
    "import joblib\n",
    "import pandas as pd\n",
    "\n",
    "from src.data.dataset import APTOSDataset\n",
    "from src.preprocess.pipeline import Pipeline\n",
    "from src.data.sampling import ImbalancedAPTOSDatasetSampler"
   ]
  },
  {
   "cell_type": "code",
   "execution_count": 3,
   "metadata": {},
   "outputs": [],
   "source": [
    "DATA_FRAME = \"../data/aptos2019-blindness-detection/train.csv\"\n",
    "DATA_DIRECTORY = \"../data/aptos2019-blindness-detection/train_images\"\n",
    "\n",
    "# Pipeline to debug\n",
    "PIPELINE_STAGES = [\n",
    "    (\n",
    "        \"resize\",\n",
    "        {\"width\": 100, \"height\": 100}\n",
    "    )\n",
    "]"
   ]
  },
  {
   "cell_type": "code",
   "execution_count": 4,
   "metadata": {},
   "outputs": [
    {
     "name": "stderr",
     "output_type": "stream",
     "text": [
      "WARNING:root:[Memory(location=/tmp/cachedir/joblib)]: Flushing completely the cache\n"
     ]
    }
   ],
   "source": [
    "df = pd.read_csv(DATA_FRAME)\n",
    "\n",
    "cache = joblib.Memory(\"/tmp/cachedir\", verbose=0)\n",
    "cache.clear()\n",
    "\n",
    "pipeline = Pipeline(PIPELINE_STAGES)\n",
    "\n",
    "dataset = APTOSDataset(df, DATA_DIRECTORY, pipeline, cache)\n",
    "\n",
    "# Wrap the dataset up as it is in train.py\n",
    "concat_dataset = torch.utils.data.ConcatDataset([dataset])\n",
    "dataset_subset, _ = torch.utils.data.random_split(concat_dataset, [1000, len(dataset) - 1000])\n",
    "\n",
    "# Create a sampler that more frequently presents samples from the less represented classes\n",
    "sampler = ImbalancedAPTOSDatasetSampler(dataset_subset)"
   ]
  },
  {
   "cell_type": "code",
   "execution_count": 9,
   "metadata": {},
   "outputs": [
    {
     "name": "stdout",
     "output_type": "stream",
     "text": [
      "Default sampler\n",
      "(tensor([0, 1, 2, 3, 4]), tensor([50, 10, 26,  3, 11]))\n",
      "ImbalancedAPTOSDatasetSampler sampler\n",
      "(tensor([0, 1, 2, 3, 4]), tensor([21, 17, 19, 24, 19]))\n"
     ]
    }
   ],
   "source": [
    "data_loader = torch.utils.data.DataLoader(dataset_subset, batch_size=100)\n",
    "\n",
    "for idx, (image, diagnosis, id_) in enumerate(data_loader):\n",
    "    print(\"Default sampler\")\n",
    "    print(torch.unique(diagnosis, return_counts=True))\n",
    "    \n",
    "    if idx >= 0:\n",
    "        break\n",
    "\n",
    "balanced_data_loader = torch.utils.data.DataLoader(dataset_subset, batch_size=100, sampler=sampler)\n",
    "\n",
    "for idx, (image, diagnosis, id_) in enumerate(balanced_data_loader):\n",
    "    print(\"ImbalancedAPTOSDatasetSampler sampler\")\n",
    "    print(torch.unique(diagnosis, return_counts=True))\n",
    "    \n",
    "    if idx >= 0:\n",
    "        break\n",
    "\n"
   ]
  }
 ],
 "metadata": {
  "kernelspec": {
   "display_name": "Python 3",
   "language": "python",
   "name": "python3"
  },
  "language_info": {
   "codemirror_mode": {
    "name": "ipython",
    "version": 3
   },
   "file_extension": ".py",
   "mimetype": "text/x-python",
   "name": "python",
   "nbconvert_exporter": "python",
   "pygments_lexer": "ipython3",
   "version": "3.6.4"
  }
 },
 "nbformat": 4,
 "nbformat_minor": 2
}
